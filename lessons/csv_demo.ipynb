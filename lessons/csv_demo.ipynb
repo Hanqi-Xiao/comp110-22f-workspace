{
 "cells": [
  {
   "cell_type": "code",
   "execution_count": 28,
   "metadata": {},
   "outputs": [
    {
     "name": "stdout",
     "output_type": "stream",
     "text": [
      "Reloads modules.\n"
     ]
    }
   ],
   "source": [
    "%reload_ext autoreload\n",
    "%autoreload 2\n",
    "print(\"Reloads modules.\")"
   ]
  },
  {
   "cell_type": "code",
   "execution_count": 29,
   "metadata": {},
   "outputs": [
    {
     "data": {
      "text/plain": [
       "[{'Dab': '1/1/2222', 'Dabi': '2', 'Daba': '3'},\n",
       " {'Dab': '2/3/4444', 'Dabi': '7', 'Daba': '4'},\n",
       " {'Dab': '2/2/4213', 'Dabi': '6', 'Daba': '5'}]"
      ]
     },
     "execution_count": 29,
     "metadata": {},
     "output_type": "execute_result"
    }
   ],
   "source": [
    "from data_utils import read_csv_rows, column_values\n",
    "\n",
    "filename = \"weather.csv\"\n",
    "data_table: list[dict[str, str]] = read_csv_rows(filename)\n",
    "data_table"
   ]
  },
  {
   "cell_type": "code",
   "execution_count": 32,
   "metadata": {},
   "outputs": [
    {
     "data": {
      "text/plain": [
       "{'Dab': ['1/1/2222', '2/3/4444', '2/2/4213'],\n",
       " 'Dabi': ['2', '7', '6'],\n",
       " 'Daba': ['3', '4', '5']}"
      ]
     },
     "execution_count": 32,
     "metadata": {},
     "output_type": "execute_result"
    }
   ],
   "source": [
    "from data_utils import columnar\n",
    "\n",
    "\n",
    "columnar(data_table)"
   ]
  },
  {
   "cell_type": "code",
   "execution_count": null,
   "metadata": {},
   "outputs": [],
   "source": []
  }
 ],
 "metadata": {
  "kernelspec": {
   "display_name": "Python 3.10.5 64-bit",
   "language": "python",
   "name": "python3"
  },
  "language_info": {
   "codemirror_mode": {
    "name": "ipython",
    "version": 3
   },
   "file_extension": ".py",
   "mimetype": "text/x-python",
   "name": "python",
   "nbconvert_exporter": "python",
   "pygments_lexer": "ipython3",
   "version": "3.10.5"
  },
  "orig_nbformat": 4,
  "vscode": {
   "interpreter": {
    "hash": "14301f198264045c185a24a22454107cc10220100870000c1930fb2c9380cc74"
   }
  }
 },
 "nbformat": 4,
 "nbformat_minor": 2
}
