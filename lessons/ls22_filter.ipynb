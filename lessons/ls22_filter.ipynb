{
 "cells": [
  {
   "cell_type": "markdown",
   "metadata": {},
   "source": [
    "# Filtering Data Based on Criteria\n",
    "\n",
    "In this lesson, we will use a simple, small, old dataset of weather projections in Chapel Hill for Thursday, March 25th, through Saturday, April 3rd, of 2022. Each row is the projection for the next day in that timeframe.\n",
    "\n",
    "Our analysis goal is to find the average temperatures on days where it is unlikely (less than 30%) to rain.\n",
    "\n",
    "We will consider approaching this problem from a column-oriented perspective.\n",
    "\n",
    "First, let's consider our data set."
   ]
  },
  {
   "cell_type": "code",
   "execution_count": 1,
   "metadata": {},
   "outputs": [
    {
     "data": {
      "text/plain": [
       "{'high': [77, 84, 78, 79, 65, 67, 74, 61, 55, 61],\n",
       " 'low': [67, 51, 64, 45, 43, 53, 56, 37, 34, 42],\n",
       " 'rain': [0.3, 0.2, 0.4, 0.8, 0.0, 0.2, 0.4, 0.5, 0.1, 0.1]}"
      ]
     },
     "execution_count": 1,
     "metadata": {},
     "output_type": "execute_result"
    }
   ],
   "source": [
    "col_data: dict[str, list[float]] = {\n",
    "    \"high\": [77, 84, 78, 79, 65, 67, 74, 61, 55, 61],\n",
    "    \"low\":  [67, 51, 64, 45, 43, 53, 56, 37, 34, 42],\n",
    "    \"rain\": [.3, .2, .4, .8, 0., .2, .4, .5, .1, .1]\n",
    "}\n",
    "\n",
    "col_data"
   ]
  },
  {
   "cell_type": "code",
   "execution_count": 3,
   "metadata": {},
   "outputs": [
    {
     "ename": "NameError",
     "evalue": "name 'mask' is not defined",
     "output_type": "error",
     "traceback": [
      "\u001b[1;31m---------------------------------------------------------------------------\u001b[0m",
      "\u001b[1;31mNameError\u001b[0m                                 Traceback (most recent call last)",
      "\u001b[1;32mc:\\Users\\Hanqi-Xiao\\OneDrive - University of North Carolina at Chapel Hill\\Documents\\COMP_110\\comp110-22f-workspace\\lessons\\ls22_filter.ipynb Cell 3\u001b[0m in \u001b[0;36m<cell line: 11>\u001b[1;34m()\u001b[0m\n\u001b[0;32m      <a href='vscode-notebook-cell:/c%3A/Users/Hanqi-Xiao/OneDrive%20-%20University%20of%20North%20Carolina%20at%20Chapel%20Hill/Documents/COMP_110/comp110-22f-workspace/lessons/ls22_filter.ipynb#W2sZmlsZQ%3D%3D?line=7'>8</a>\u001b[0m     \u001b[39mreturn\u001b[39;00m mask\n\u001b[0;32m     <a href='vscode-notebook-cell:/c%3A/Users/Hanqi-Xiao/OneDrive%20-%20University%20of%20North%20Carolina%20at%20Chapel%20Hill/Documents/COMP_110/comp110-22f-workspace/lessons/ls22_filter.ipynb#W2sZmlsZQ%3D%3D?line=9'>10</a>\u001b[0m gen_mask_less_than(col_data)\n\u001b[1;32m---> <a href='vscode-notebook-cell:/c%3A/Users/Hanqi-Xiao/OneDrive%20-%20University%20of%20North%20Carolina%20at%20Chapel%20Hill/Documents/COMP_110/comp110-22f-workspace/lessons/ls22_filter.ipynb#W2sZmlsZQ%3D%3D?line=10'>11</a>\u001b[0m \u001b[39mfilter\u001b[39m(col_data, mask)\n",
      "\u001b[1;31mNameError\u001b[0m: name 'mask' is not defined"
     ]
    }
   ],
   "source": [
    "column_table = dict[str, list[float]]\n",
    "def filter(table: column_table, mask) -> column_table:\n",
    "    filtered_table = {}\n",
    "    return filtered_table\n",
    "\n",
    "def gen_mask_less_than(table: column_table) -> list[bool]:\n",
    "    mask: list[bool] = list()\n",
    "    return mask\n",
    "\n",
    "mask = gen_mask_less_than(col_data)\n",
    "filter(col_data, mask)"
   ]
  }
 ],
 "metadata": {
  "kernelspec": {
   "display_name": "Python 3.10.5 64-bit",
   "language": "python",
   "name": "python3"
  },
  "language_info": {
   "codemirror_mode": {
    "name": "ipython",
    "version": 3
   },
   "file_extension": ".py",
   "mimetype": "text/x-python",
   "name": "python",
   "nbconvert_exporter": "python",
   "pygments_lexer": "ipython3",
   "version": "3.10.5"
  },
  "orig_nbformat": 4,
  "vscode": {
   "interpreter": {
    "hash": "14301f198264045c185a24a22454107cc10220100870000c1930fb2c9380cc74"
   }
  }
 },
 "nbformat": 4,
 "nbformat_minor": 2
}
