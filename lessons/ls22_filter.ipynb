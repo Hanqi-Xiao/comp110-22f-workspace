{
 "cells": [
  {
   "cell_type": "markdown",
   "metadata": {},
   "source": [
    "# Filtering Data Based on Criteria\n",
    "\n",
    "In this lesson, we will use a simple, small, old dataset of weather projections in Chapel Hill for Thursday, March 25th, through Saturday, April 3rd, of 2022. Each row is the projection for the next day in that timeframe.\n",
    "\n",
    "Our analysis goal is to find the average temperatures on days where it is unlikely (less than 30%) to rain.\n",
    "\n",
    "We will consider approaching this problem from a column-oriented perspective.\n",
    "\n",
    "First, let's consider our data set."
   ]
  },
  {
   "cell_type": "code",
   "execution_count": 1,
   "metadata": {},
   "outputs": [
    {
     "data": {
      "text/plain": [
       "{'high': [77, 84, 78, 79, 65, 67, 74, 61, 55, 61],\n",
       " 'low': [67, 51, 64, 45, 43, 53, 56, 37, 34, 42],\n",
       " 'rain': [0.3, 0.2, 0.4, 0.8, 0.0, 0.2, 0.4, 0.5, 0.1, 0.1]}"
      ]
     },
     "execution_count": 1,
     "metadata": {},
     "output_type": "execute_result"
    }
   ],
   "source": [
    "col_data: dict[str, list[float]] = {\n",
    "    \"high\": [77, 84, 78, 79, 65, 67, 74, 61, 55, 61],\n",
    "    \"low\":  [67, 51, 64, 45, 43, 53, 56, 37, 34, 42],\n",
    "    \"rain\": [.3, .2, .4, .8, 0., .2, .4, .5, .1, .1]\n",
    "}\n",
    "\n",
    "col_data"
   ]
  },
  {
   "cell_type": "code",
   "execution_count": 8,
   "metadata": {},
   "outputs": [
    {
     "data": {
      "text/plain": [
       "{'high': [77, 84, 78, 67, 74],\n",
       " 'low': [67, 51, 64, 53, 56],\n",
       " 'rain': [0.3, 0.2, 0.4, 0.2, 0.4]}"
      ]
     },
     "execution_count": 8,
     "metadata": {},
     "output_type": "execute_result"
    }
   ],
   "source": [
    "column_table = dict[str, list[float]]\n",
    "\n",
    "\n",
    "def filter(table: column_table, mask) -> column_table:\n",
    "    filtered_table = dict()\n",
    "    for column in table:\n",
    "        filtered_table[column] = list()\n",
    "        for index in range(len(table[column])):\n",
    "            if mask[index]:\n",
    "                filtered_table[column].append(table[column][index])\n",
    "    return filtered_table\n",
    "\n",
    "\n",
    "def gen_mask(column: list[float], f) -> list[bool]:\n",
    "    mask: list[bool] = list()\n",
    "    for x in column:\n",
    "        mask.append(f(x))\n",
    "    return mask\n",
    "\n",
    "\n",
    "mask = gen_mask(col_data.get(\"low\"), lambda x: x > 50)\n",
    "filter(col_data, mask)"
   ]
  }
 ],
 "metadata": {
  "kernelspec": {
   "display_name": "Python 3.10.5 64-bit",
   "language": "python",
   "name": "python3"
  },
  "language_info": {
   "codemirror_mode": {
    "name": "ipython",
    "version": 3
   },
   "file_extension": ".py",
   "mimetype": "text/x-python",
   "name": "python",
   "nbconvert_exporter": "python",
   "pygments_lexer": "ipython3",
   "version": "3.10.5"
  },
  "orig_nbformat": 4,
  "vscode": {
   "interpreter": {
    "hash": "14301f198264045c185a24a22454107cc10220100870000c1930fb2c9380cc74"
   }
  }
 },
 "nbformat": 4,
 "nbformat_minor": 2
}
